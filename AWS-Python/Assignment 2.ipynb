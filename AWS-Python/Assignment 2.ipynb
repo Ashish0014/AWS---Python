{
 "cells": [
  {
   "cell_type": "code",
   "execution_count": 2,
   "metadata": {},
   "outputs": [
    {
     "name": "stdout",
     "output_type": "stream",
     "text": [
      "Capitalized String: Hello welcome to india\n",
      "Replicated Upper String: HELLO WELCOME TO INDIA\n",
      "Replicated Lower String: hello welcome to india\n"
     ]
    }
   ],
   "source": [
    "#Refer capitalize function in shared program files, replicate .upper() and .lower() functions\n",
    "string = \"hello weLcome to India\"\n",
    "capitalized_string = string.capitalize()\n",
    "print(\"Capitalized String:\",capitalized_string)\n",
    "\n",
    "upper_function = string.upper()\n",
    "print(\"Replicated Upper String:\",upper_function)\n",
    "\n",
    "lower_function = string.lower()\n",
    "print(\"Replicated Lower String:\",lower_function)"
   ]
  },
  {
   "cell_type": "code",
   "execution_count": 11,
   "metadata": {},
   "outputs": [
    {
     "name": "stdout",
     "output_type": "stream",
     "text": [
      "Odd Sequence: [1, 65, 1, 65, 33, 87, 9]\n"
     ]
    }
   ],
   "source": [
    "#Create a odd sequence from given sequence [1,2,34,65,1,2,65,66,44,33,22,87,123412,09,78,76]\n",
    "sequence = [1,2,34,65,1,2,65,66,44,33,22,87,123412,9,78,76]\n",
    "odd_sequence = [num for num in sequence if num % 2 != 0]\n",
    "print(\"Odd Sequence:\", odd_sequence)"
   ]
  },
  {
   "cell_type": "code",
   "execution_count": 15,
   "metadata": {},
   "outputs": [
    {
     "name": "stdout",
     "output_type": "stream",
     "text": [
      "{'pineapple': 25, 'orange': 30, 'strawberry': 50}\n"
     ]
    }
   ],
   "source": [
    "#{‘apple’: 10, ‘mango’: 20, ‘pineapple’: 25, ‘orange’: 30, ‘strawberry’: 50, ‘jackfruit’: 10} Generate a comprehension fruits which has more than 20\n",
    "fruits = {'apple': 10, 'mango': 20, 'pineapple': 25, 'orange': 30, 'strawberry': 50, 'jackfruit': 10}\n",
    "fruits_more_than_20 = {key: value for key, value in fruits.items() if value > 20}\n",
    "print(fruits_more_than_20)"
   ]
  }
 ],
 "metadata": {
  "kernelspec": {
   "display_name": "Python 3",
   "language": "python",
   "name": "python3"
  },
  "language_info": {
   "codemirror_mode": {
    "name": "ipython",
    "version": 3
   },
   "file_extension": ".py",
   "mimetype": "text/x-python",
   "name": "python",
   "nbconvert_exporter": "python",
   "pygments_lexer": "ipython3",
   "version": "3.10.7"
  }
 },
 "nbformat": 4,
 "nbformat_minor": 2
}
