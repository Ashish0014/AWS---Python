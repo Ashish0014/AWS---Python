{
 "cells": [
  {
   "cell_type": "code",
   "execution_count": 3,
   "metadata": {},
   "outputs": [
    {
     "name": "stdout",
     "output_type": "stream",
     "text": [
      "(3, 1)\n"
     ]
    }
   ],
   "source": [
    "# cow bull prog as a func\n",
    "def cow_bull(secret, guess):\n",
    "    cow = sum(s == g for s, g in zip(secret, guess))\n",
    "    bull = sum(g in secret for g in guess) - cow\n",
    "    return cow, bull\n",
    "\n",
    "#Example\n",
    "secret = \"hello\"\n",
    "guess = \"holla\"\n",
    "print(cow_bull(secret, guess))"
   ]
  },
  {
   "cell_type": "code",
   "execution_count": 4,
   "metadata": {},
   "outputs": [
    {
     "name": "stdout",
     "output_type": "stream",
     "text": [
      "True\n",
      "False\n"
     ]
    }
   ],
   "source": [
    "# write palindrome and fibo func\n",
    "def is_palindrome(s):\n",
    "    return s == s[::-1]\n",
    "\n",
    "#Example\n",
    "print(is_palindrome(\"radar\"))\n",
    "print(is_palindrome(\"hello\"))"
   ]
  },
  {
   "cell_type": "code",
   "execution_count": 6,
   "metadata": {},
   "outputs": [
    {
     "name": "stdout",
     "output_type": "stream",
     "text": [
      "[0, 1, 1, 2, 3, 5, 8, 13, 21]\n"
     ]
    }
   ],
   "source": [
    "# create a func to replicate range\n",
    "def fibonacci(n):\n",
    "    fibo = [0, 1]\n",
    "    while len(fibo) < n:\n",
    "        fibo.append(fibo[-1] + fibo[-2])\n",
    "    return fibo[:n]\n",
    "\n",
    "#Example\n",
    "print(fibonacci(9))"
   ]
  },
  {
   "cell_type": "code",
   "execution_count": 10,
   "metadata": {},
   "outputs": [
    {
     "name": "stdout",
     "output_type": "stream",
     "text": [
      "[0, 1, 2, 3, 4, 5]\n",
      "[2, 4, 6]\n"
     ]
    }
   ],
   "source": [
    "# capitalize\n",
    "def my_range(start, stop=None, step=1):\n",
    "    if stop is None:\n",
    "        stop = start\n",
    "        start = 0\n",
    "    return list(range(start, stop, step))\n",
    "\n",
    "#Example\n",
    "print(my_range(6))\n",
    "print(my_range(2, 8, 2))"
   ]
  }
 ],
 "metadata": {
  "kernelspec": {
   "display_name": "Python 3",
   "language": "python",
   "name": "python3"
  },
  "language_info": {
   "codemirror_mode": {
    "name": "ipython",
    "version": 3
   },
   "file_extension": ".py",
   "mimetype": "text/x-python",
   "name": "python",
   "nbconvert_exporter": "python",
   "pygments_lexer": "ipython3",
   "version": "3.10.7"
  }
 },
 "nbformat": 4,
 "nbformat_minor": 2
}
