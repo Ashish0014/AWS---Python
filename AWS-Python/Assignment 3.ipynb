{
 "cells": [
  {
   "cell_type": "code",
   "execution_count": 6,
   "metadata": {},
   "outputs": [
    {
     "name": "stdout",
     "output_type": "stream",
     "text": [
      "Concatenated String: Hello Wolrd\n",
      "Concatenated String: Hello World\n"
     ]
    }
   ],
   "source": [
    "#Write Examples code for concatenation\n",
    "\n",
    "#With the + operator\n",
    "string_1 = \"Hello\"\n",
    "string_2 = \"Wolrd\"\n",
    "concatenated_string = string_1 +\" \"+ string_2\n",
    "print(\"Concatenated String:\",concatenated_string)\n",
    "\n",
    "#With the += operator\n",
    "string = \"Hello\"\n",
    "string += \" World\"\n",
    "print(\"Concatenated String:\",string)"
   ]
  },
  {
   "cell_type": "code",
   "execution_count": 17,
   "metadata": {},
   "outputs": [
    {
     "name": "stdout",
     "output_type": "stream",
     "text": [
      "Formated String(%): My name is Ashish, I am 20 years old, and my height is 5.8 feet.\n",
      "\n",
      "Formated String(str.format): My name is Ashish, I am 20 years old, and my height is 5.8 feet.\n",
      "\n",
      "Formatted String(f-String): My name is Ashish, I am 20 years old, and my height is 5.8 feet.\n",
      "\n",
      "Formatted String(Standard Library): My name is Ashish, I am 20 years old, and my height is 5.8 feet.\n"
     ]
    }
   ],
   "source": [
    "#Write one Examples for each formatting techniques\n",
    "\n",
    "#Old Style String Formatting (% Operator)\n",
    "name = \"Ashish\"\n",
    "age = 20\n",
    "height = 5.8\n",
    "formatted_string = \"My name is %s, I am %d years old, and my height is %g feet.\" % (name, age, height)\n",
    "print(\"Formated String(%):\",formatted_string)\n",
    "\n",
    "#New Style String Formatting (str.format)\n",
    "name = \"Ashish\"\n",
    "age = 20\n",
    "height = 5.8\n",
    "formatted_string = \"My name is {}, I am {} years old, and my height is {} feet.\".format(name, age, height)\n",
    "print(\"\\nFormated String(str.format):\", formatted_string)\n",
    "\n",
    "#String Interpolation / f-Strings \n",
    "name = \"Ashish\"\n",
    "age = 20\n",
    "height = 5.8\n",
    "formatted_string = f\"My name is {name}, I am {age} years old, and my height is {height} feet.\"\n",
    "print(\"\\nFormatted String(f-String):\",formatted_string)\n"
   ]
  },
  {
   "cell_type": "code",
   "execution_count": 19,
   "metadata": {},
   "outputs": [
    {
     "name": "stdout",
     "output_type": "stream",
     "text": [
      "Formatted String(Standard Library): My name is Ashish, I am 20 years old, and my height is 5.8 feet.\n"
     ]
    }
   ],
   "source": [
    "#Go Through Reference site and apply various options into formatting techniques\n",
    "from string import Template\n",
    "name = \"Ashish\"\n",
    "age = 20\n",
    "height = 5.8\n",
    "template_string = Template(\"My name is $name, I am $age years old, and my height is $height feet.\")\n",
    "formatted_string = template_string.substitute(name=name, age=age, height=height)\n",
    "print(\"Formatted String(Standard Library):\",formatted_string)"
   ]
  },
  {
   "cell_type": "code",
   "execution_count": 23,
   "metadata": {},
   "outputs": [
    {
     "name": "stdout",
     "output_type": "stream",
     "text": [
      "Addition: 13\n",
      "Substraction: 5\n",
      "Multiplication: 36\n",
      "Division: 2.25\n",
      "Exponentiation: 262144\n",
      "Modulus: 1\n"
     ]
    }
   ],
   "source": [
    "#Write example for each arthimetic operators\n",
    "x = 4\n",
    "y = 9\n",
    "\n",
    "#Addition\n",
    "z = x + y\n",
    "print(\"Addition:\",z)\n",
    "\n",
    "#Substraction\n",
    "z = y - x\n",
    "print(\"Substraction:\",z)\n",
    "\n",
    "#Multiplication\n",
    "z = x * y\n",
    "print(\"Multiplication:\",z)\n",
    "\n",
    "#Division\n",
    "z = y/x\n",
    "print(\"Division:\",z)\n",
    "\n",
    "#Exponentiation \n",
    "z = x**y\n",
    "print(\"Exponentiation:\",z)\n",
    "\n",
    "#Modulus\n",
    "z = y % x\n",
    "print(\"Modulus:\", z)\n",
    "\n",
    "\n"
   ]
  },
  {
   "cell_type": "code",
   "execution_count": 25,
   "metadata": {},
   "outputs": [
    {
     "name": "stdout",
     "output_type": "stream",
     "text": [
      "Value of x after subtraction is 3\n",
      "Value of y after multiplication is 16\n",
      "Value of z after division is 3.0\n"
     ]
    }
   ],
   "source": [
    "#Write Example for assignment operators (except: = &amp; +=)\n",
    "\n",
    "#Substraction Assignment\n",
    "x = 6\n",
    "x -= 3\n",
    "print(\"Value of x after subtraction is\", x)\n",
    "\n",
    "#Multiplication Assignment\n",
    "y = 4\n",
    "y *= 4\n",
    "print(\"Value of y after multiplication is\", y)\n",
    "\n",
    "#Division Assignment\n",
    "z = 12\n",
    "z /= 4\n",
    "print(\"Value of z after division is\", z)\n"
   ]
  }
 ],
 "metadata": {
  "kernelspec": {
   "display_name": "Python 3",
   "language": "python",
   "name": "python3"
  },
  "language_info": {
   "codemirror_mode": {
    "name": "ipython",
    "version": 3
   },
   "file_extension": ".py",
   "mimetype": "text/x-python",
   "name": "python",
   "nbconvert_exporter": "python",
   "pygments_lexer": "ipython3",
   "version": "3.10.7"
  }
 },
 "nbformat": 4,
 "nbformat_minor": 2
}
