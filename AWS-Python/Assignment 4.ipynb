{
 "cells": [
  {
   "cell_type": "code",
   "execution_count": 2,
   "metadata": {},
   "outputs": [
    {
     "name": "stdout",
     "output_type": "stream",
     "text": [
      "Upper Case: SOME NAME\n",
      "Lower Case: some name\n",
      "Capitalized: Some name\n",
      "Replaced: somE namE\n"
     ]
    }
   ],
   "source": [
    "#Create various data types and experiment its attribute\n",
    "\n",
    "name = \"some name\"\n",
    "\n",
    "#Convert to upper case\n",
    "upper_case = name.upper()\n",
    "print(\"Upper Case:\",upper_case)\n",
    "\n",
    "#Convert to lower case\n",
    "lower_case = name.lower()\n",
    "print(\"Lower Case:\",lower_case)\n",
    "\n",
    "#Capitalize the string\n",
    "capitalized = name.capitalize()\n",
    "print(\"Capitalized:\",capitalized)\n",
    "\n",
    "#Repalce 'e' with 'E'\n",
    "replaced = name.replace('e','E')\n",
    "print(\"Replaced:\", replaced)"
   ]
  },
  {
   "cell_type": "code",
   "execution_count": 3,
   "metadata": {},
   "outputs": [
    {
     "name": "stdout",
     "output_type": "stream",
     "text": [
      "Extended List: [1, 2, 3, 5, 7]\n"
     ]
    }
   ],
   "source": [
    "#L = [1,2,3]\n",
    "L = [1,2,3]\n",
    "\n",
    "#Extend above list by using [5,6,7]\n",
    "L.extend([5,6,7])\n",
    "\n",
    "#remove 5th value\n",
    "del L[4]\n",
    "\n",
    "print(\"Extended List:\",L)"
   ]
  },
  {
   "cell_type": "code",
   "execution_count": 4,
   "metadata": {},
   "outputs": [
    {
     "name": "stdout",
     "output_type": "stream",
     "text": [
      "Updated dictionary: {'mango': 15, 'apple': 15, 'pineapple': 15}\n"
     ]
    }
   ],
   "source": [
    "#d = {‘mango’: 10, ‘banana’: 0, ‘apple’: 15, ‘orange’: 0, ‘pineapple’: 20}\n",
    "\n",
    "d = {'mango': 10, 'banana': 0, 'apple': 15, 'orange': 0, 'pineapple': 20}\n",
    "\n",
    "# Remove out of stock fruits (value == 0)\n",
    "out_of_stock = [key for key, value in d.items() if value == 0]\n",
    "for fruit in out_of_stock:\n",
    "    del d[fruit]\n",
    "\n",
    "# Update mango quantity to 15 and decrease pineapple by 5\n",
    "d['mango'] = 15\n",
    "d['pineapple'] -= 5\n",
    "\n",
    "print(\"Updated dictionary:\", d)\n"
   ]
  },
  {
   "cell_type": "code",
   "execution_count": 5,
   "metadata": {},
   "outputs": [
    {
     "name": "stdout",
     "output_type": "stream",
     "text": [
      "\n",
      " [2, 4, 6, 8, 10, 12, 14, 16, 18]\n",
      "\n",
      " [-18, -16, -14, -12, -10, -8, -6, -4, -2, 0]\n",
      "\n",
      " [2, 3, 4, 5, 6, 7, 8, 10]\n",
      "\n",
      " [2, 3, 4, 'a', 'b', 'c', 5, 6, 7, 8, 10]\n",
      "\n",
      " [2, 3, 4, 'a', 'b', 'c', 5, 6, 7, 8, 10]\n",
      "\n",
      " []\n",
      "\n",
      " [10, 8, 7, 6, 5, 'c', 'b', 'a', 4, 3, 2]\n",
      "\n",
      " [2, 3, 4]\n",
      "\n",
      " [4, 'a', 'b', 'c', 5, 6, 7, 8, 10]\n",
      "\n",
      " [2, 'b', 'c', 5, 6, 7, 8, 10]\n",
      "\n",
      " ['b', 'c', 5]\n",
      "\n",
      " [2, 'b', 'c', 5, 6, 7, 8, 'b', 'c', 5, 6, 7, 8, 10, 12, 14, 16, 18, 20]\n"
     ]
    }
   ],
   "source": [
    "#Given List\n",
    "a = [2,4,6,8,10]\n",
    "\n",
    "#Problem 1\n",
    "a += [12,14,16,18]\n",
    "print(\"\\n\",a)\n",
    "\n",
    "#Problem 2\n",
    "a[:] = [-i for i in a] [::-1] + [0]\n",
    "print('\\n',a)\n",
    "\n",
    "#Problem 3\n",
    "a[:] = [2,3,4,5,6,7,8,10]\n",
    "print('\\n',a)\n",
    "\n",
    "#Problem 4\n",
    "a[3:3] = ['a', 'b', 'c']\n",
    "print(\"\\n\",a)\n",
    "\n",
    "#Problem 5\n",
    "a = a\n",
    "print(\"\\n\",a)\n",
    "\n",
    "#Problem 6\n",
    "a[0:0] = []\n",
    "print(\"\\n\",a[0:0])\n",
    "\n",
    "#Problem 7\n",
    "print(\"\\n\",a[::-1])\n",
    "\n",
    "#Problem 8\n",
    "print(\"\\n\",a[0:3])\n",
    "\n",
    "#Problem 9\n",
    "print(\"\\n\",a[2:])\n",
    "\n",
    "#Problem 10\n",
    "a[1:4] = []\n",
    "print(\"\\n\",a)\n",
    "\n",
    "#Problem 11\n",
    "print(\"\\n\",a[1:4])\n",
    "\n",
    "#Problem 12\n",
    "a[-1:] = a[1:] + [12, 14, 16, 18, 20]\n",
    "print(\"\\n\",a)\n"
   ]
  }
 ],
 "metadata": {
  "kernelspec": {
   "display_name": "Python 3",
   "language": "python",
   "name": "python3"
  },
  "language_info": {
   "codemirror_mode": {
    "name": "ipython",
    "version": 3
   },
   "file_extension": ".py",
   "mimetype": "text/x-python",
   "name": "python",
   "nbconvert_exporter": "python",
   "pygments_lexer": "ipython3",
   "version": "3.10.7"
  }
 },
 "nbformat": 4,
 "nbformat_minor": 2
}
